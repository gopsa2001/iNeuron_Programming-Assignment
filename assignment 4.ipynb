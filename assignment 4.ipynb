{
 "cells": [
  {
   "cell_type": "code",
   "execution_count": 5,
   "id": "75dbed79",
   "metadata": {},
   "outputs": [
    {
     "name": "stdout",
     "output_type": "stream",
     "text": [
      "input a number : 9\n",
      "factorial is :  362880\n"
     ]
    }
   ],
   "source": [
    "# 1. Write a Python Program to Find the Factorial of a Number?\n",
    "n=int(input(\"input a number : \"))\n",
    "for i in range (1,n):\n",
    "    n=i*n\n",
    "print(\"factorial is : \",n)"
   ]
  },
  {
   "cell_type": "code",
   "execution_count": 8,
   "id": "f8c91ef5",
   "metadata": {},
   "outputs": [
    {
     "name": "stdout",
     "output_type": "stream",
     "text": [
      "input number : 38\n",
      "38\n",
      "76\n",
      "114\n",
      "152\n",
      "190\n",
      "228\n",
      "266\n",
      "304\n",
      "342\n",
      "380\n"
     ]
    }
   ],
   "source": [
    "# 2. Write a Python Program to Display the multiplication Table?\n",
    "n=int(input(\"input number : \"))\n",
    "for i in range (1,11):\n",
    "    print(i*n)"
   ]
  },
  {
   "cell_type": "code",
   "execution_count": 19,
   "id": "177bc677",
   "metadata": {},
   "outputs": [
    {
     "name": "stdout",
     "output_type": "stream",
     "text": [
      "input number till you want fibonacci seqence : 10\n",
      "0,1,1,2,3,5,8,13,21,34,55\n"
     ]
    }
   ],
   "source": [
    "# 3. Write a Python Program to Print the Fibonacci sequence?\n",
    "n=int(input(\"input number till you want fibonacci seqence : \"))\n",
    "b=0\n",
    "c=1\n",
    "print(\"0,1\",end=\",\")\n",
    "for i in range (1,n):\n",
    "    a=c+b\n",
    "    b=c\n",
    "    c=a\n",
    "    if i==n-1:\n",
    "        print(c)\n",
    "    else:print(c,end=\",\")\n",
    "    "
   ]
  },
  {
   "cell_type": "code",
   "execution_count": 35,
   "id": "b43a288e",
   "metadata": {},
   "outputs": [
    {
     "name": "stdout",
     "output_type": "stream",
     "text": [
      "input a number : 9474\n",
      "number is Armstrong\n"
     ]
    }
   ],
   "source": [
    "# 4. Write a Python Program to Check Armstrong Number?\n",
    "n=int(input(\"input a number : \"))\n",
    "b=n\n",
    "a=0\n",
    "for i in range (len(str(n))):\n",
    "    a=((b%10)**(len(str(n))))+a\n",
    "    b=b//10\n",
    "if a==n:\n",
    "    print (\"number is Armstrong\")\n",
    "else:print(\"number is not Armstrong\")"
   ]
  },
  {
   "cell_type": "code",
   "execution_count": 39,
   "id": "36fce9e3",
   "metadata": {},
   "outputs": [
    {
     "name": "stdout",
     "output_type": "stream",
     "text": [
      "give interval lower value : 20\n",
      "give interval upper value : 1001\n",
      "153\n",
      "370\n",
      "371\n",
      "407\n"
     ]
    }
   ],
   "source": [
    "# 5. Write a Python Program to Find Armstrong Number in an Interval?\n",
    "z=int(input(\"give interval lower value : \"))\n",
    "y=int(input(\"give interval upper value : \"))\n",
    "for j in range (z,y):\n",
    "    b=j\n",
    "    a=0\n",
    "    for i in range (len(str(j))):\n",
    "        a=((b%10)**(len(str(j))))+a\n",
    "        b=b//10\n",
    "    if a==j:\n",
    "        print (j)\n",
    "    "
   ]
  },
  {
   "cell_type": "code",
   "execution_count": 41,
   "id": "ead696e5",
   "metadata": {},
   "outputs": [
    {
     "name": "stdout",
     "output_type": "stream",
     "text": [
      "how many numbers have u : 5\n",
      "give input no. 1 : 10\n",
      "give input no. 2 : 9\n",
      "give input no. 3 : 8\n",
      "give input no. 4 : 7\n",
      "give input no. 5 : 6\n",
      "sum is :  40\n"
     ]
    }
   ],
   "source": [
    "# 6. Write a Python Program to Find the Sum of Natural Numbers?\n",
    "n=int(input(\"how many numbers have u : \"))\n",
    "b=[]\n",
    "for i in range (1,n+1):\n",
    "    a=int(input(f\"give input no. {i} : \"))\n",
    "    b.append(a)\n",
    "print(\"sum is : \",sum(b))"
   ]
  },
  {
   "cell_type": "code",
   "execution_count": null,
   "id": "3e59f487",
   "metadata": {},
   "outputs": [],
   "source": []
  }
 ],
 "metadata": {
  "kernelspec": {
   "display_name": "Python 3 (ipykernel)",
   "language": "python",
   "name": "python3"
  },
  "language_info": {
   "codemirror_mode": {
    "name": "ipython",
    "version": 3
   },
   "file_extension": ".py",
   "mimetype": "text/x-python",
   "name": "python",
   "nbconvert_exporter": "python",
   "pygments_lexer": "ipython3",
   "version": "3.9.12"
  }
 },
 "nbformat": 4,
 "nbformat_minor": 5
}
