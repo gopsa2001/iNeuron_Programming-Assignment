{
 "cells": [
  {
   "cell_type": "code",
   "execution_count": 29,
   "id": "7427d56b",
   "metadata": {},
   "outputs": [
    {
     "name": "stdout",
     "output_type": "stream",
     "text": [
      "enter string : Python is always fun to learn\n",
      "enter length of words3\n",
      "The string is :\n",
      "Python is always fun to learn\n",
      "\n",
      "The words in the string with length greater than 3 is :\n",
      "['Python', 'always', 'learn']\n"
     ]
    }
   ],
   "source": [
    "# 1.Write a Python program to find words which are greater than given length k?\n",
    "def string_check(string_length, my_string):\n",
    "        result_string = []\n",
    "        words = my_string.split(\" \")\n",
    "        for x in words:\n",
    "              if len(x) > string_length:\n",
    "                     result_string.append(x)\n",
    "        return result_string\n",
    "my_string =input(\"enter string : \")\n",
    "string_length = int(input(\"enter length of words\"))\n",
    "\n",
    "\n",
    "print(\"The string is :\")\n",
    "print(my_string)\n",
    "print (\"\\nThe words in the string with length greater than\" , string_length , \"is :\")\n",
    "print(string_check(string_length, my_string))"
   ]
  },
  {
   "cell_type": "code",
   "execution_count": 31,
   "id": "cc6c5ce9",
   "metadata": {},
   "outputs": [
    {
     "name": "stdout",
     "output_type": "stream",
     "text": [
      "enter string : python ki jai ho\n",
      "enter position for removing character 4\n",
      "after removing : \n",
      "pythn ki jai ho\n"
     ]
    }
   ],
   "source": [
    "# 2.Write a Python program for removing i-th character from a string?\n",
    "def remove(string, i):\n",
    "    a = string[: i]\n",
    "    b = string[i + 1:]\n",
    "    return a + b\n",
    " \n",
    "string =input(\"enter string : \")\n",
    "n=int(input(\"enter position for removing character \"))\n",
    "print(\"after removing : \")\n",
    "print(remove(string, n))"
   ]
  },
  {
   "cell_type": "code",
   "execution_count": 32,
   "id": "b2d450d0",
   "metadata": {},
   "outputs": [
    {
     "name": "stdout",
     "output_type": "stream",
     "text": [
      "enter string : python ki jai ho\n",
      "['python', 'ki', 'jai', 'ho']\n",
      "python-ki-jai-ho\n"
     ]
    }
   ],
   "source": [
    "# 3.Write a Python program to split and join a string?\n",
    "def split_string(string):\n",
    "    list_string = string.split(' ')\n",
    "     \n",
    "    return list_string\n",
    " \n",
    "def join_string(list_string):\n",
    "    string = '-'.join(list_string)\n",
    "    return string\n",
    "string = input(\"enter string : \")\n",
    "list_string = split_string(string)\n",
    "print(list_string)\n",
    "new_string = join_string(list_string)\n",
    "print(new_string)"
   ]
  },
  {
   "cell_type": "code",
   "execution_count": 33,
   "id": "455d95ee",
   "metadata": {},
   "outputs": [
    {
     "name": "stdout",
     "output_type": "stream",
     "text": [
      "enter string : 01010101010\n",
      "Yes\n"
     ]
    }
   ],
   "source": [
    "# 4.Write a Python to check if a given string is binary string or not?\n",
    "def check(string):\n",
    "    p = set(string)\n",
    "    s = {'0', '1'}\n",
    "    if s == p or p == {'0'} or p == {'1'}:\n",
    "        print(\"Yes\")\n",
    "    else:\n",
    "        print(\"No\")\n",
    "string = input(\"enter string : \")\n",
    "check(string)"
   ]
  },
  {
   "cell_type": "code",
   "execution_count": 34,
   "id": "104af7b3",
   "metadata": {},
   "outputs": [
    {
     "name": "stdout",
     "output_type": "stream",
     "text": [
      "enter first string : python achi hai \n",
      "enter second string : java bhi achi hai\n",
      "['python', 'java', 'bhi']\n"
     ]
    }
   ],
   "source": [
    "# 5.Write a Python program to find uncommon words from two Strings?\n",
    "def UncommonWords(A, B):\n",
    "    count = {}\n",
    "    for word in A.split():\n",
    "        count[word] = count.get(word, 0) + 1\n",
    "    for word in B.split():\n",
    "        count[word] = count.get(word, 0) + 1\n",
    "    return [word for word in count if count[word] == 1]\n",
    " \n",
    "A = input(\"enter first string : \")\n",
    "B = input(\"enter second string : \")\n",
    "print(UncommonWords(A, B))"
   ]
  },
  {
   "cell_type": "code",
   "execution_count": 36,
   "id": "0a26ab9f",
   "metadata": {},
   "outputs": [
    {
     "name": "stdout",
     "output_type": "stream",
     "text": [
      "enter stringit is a good thing to study about data science\n",
      "duplicate characters : \n",
      "i\n",
      "t\n",
      " \n",
      "s\n",
      "a\n",
      "g\n",
      "o\n",
      "d\n",
      "n\n",
      "u\n",
      "c\n",
      "e\n"
     ]
    }
   ],
   "source": [
    "# 6.Write a Python to find all duplicate characters in string?\n",
    "\n",
    "from collections import Counter\n",
    " \n",
    "def find_dup_char(inp):\n",
    "    WC = Counter(inp)\n",
    "    for letter, count in WC.items():\n",
    "        if (count > 1):\n",
    "            print(letter)\n",
    "n=input(\"enter string\")\n",
    "print(\"duplicate characters : \")\n",
    "find_dup_char(n)"
   ]
  },
  {
   "cell_type": "code",
   "execution_count": 40,
   "id": "5e01a7f1",
   "metadata": {},
   "outputs": [
    {
     "name": "stdout",
     "output_type": "stream",
     "text": [
      "enter string : python@java\n",
      "string contains special character\n"
     ]
    }
   ],
   "source": [
    "# 7.Write a Python Program to check if a string contains any special character?\n",
    "n=input(\"enter string : \")\n",
    "n.split()\n",
    "c=0\n",
    "s='[@_!#$%^&*()<>?/\\|}{~:]'\n",
    "for i in range(len(n)):\n",
    "    if n[i] in s:\n",
    "        c+=1       \n",
    "if c:\n",
    "    print(\"string contains special character\")\n",
    "else:\n",
    "    print(\"string doesn't contain any special character\")"
   ]
  }
 ],
 "metadata": {
  "kernelspec": {
   "display_name": "Python 3 (ipykernel)",
   "language": "python",
   "name": "python3"
  },
  "language_info": {
   "codemirror_mode": {
    "name": "ipython",
    "version": 3
   },
   "file_extension": ".py",
   "mimetype": "text/x-python",
   "name": "python",
   "nbconvert_exporter": "python",
   "pygments_lexer": "ipython3",
   "version": "3.9.12"
  }
 },
 "nbformat": 4,
 "nbformat_minor": 5
}
