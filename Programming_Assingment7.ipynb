{
 "cells": [
  {
   "cell_type": "code",
   "execution_count": 11,
   "id": "7427d56b",
   "metadata": {},
   "outputs": [
    {
     "name": "stdout",
     "output_type": "stream",
     "text": [
      "sum of array :  887\n"
     ]
    }
   ],
   "source": [
    "# 1.Write a Python Program to find sum of array?\n",
    "import array as ar\n",
    "a=ar.array('i',[5,7,3,87,45,85,655])\n",
    "print('sum of array : ',sum(a))"
   ]
  },
  {
   "cell_type": "code",
   "execution_count": 12,
   "id": "fa68e602",
   "metadata": {},
   "outputs": [
    {
     "name": "stdout",
     "output_type": "stream",
     "text": [
      "Largest in  array :  655\n"
     ]
    }
   ],
   "source": [
    "# 2. Write a Python Program to find largest element in an array?\n",
    "import array as ar\n",
    "a=ar.array('i',[5,7,3,87,45,85,655])\n",
    "print('Largest in  array : ',max(a))"
   ]
  },
  {
   "cell_type": "code",
   "execution_count": 20,
   "id": "b2d450d0",
   "metadata": {},
   "outputs": [
    {
     "name": "stdout",
     "output_type": "stream",
     "text": [
      "rotated element :  array('i', [655, 85, 45, 87, 3, 7, 5])\n"
     ]
    }
   ],
   "source": [
    "# 3.Write a Python Program for array rotation?\n",
    "a=ar.array('i',[5,7,3,87,45,85,655])\n",
    "b=a[::-1]\n",
    "print(\"rotated element : \",b)"
   ]
  },
  {
   "cell_type": "code",
   "execution_count": 33,
   "id": "455d95ee",
   "metadata": {},
   "outputs": [
    {
     "name": "stdout",
     "output_type": "stream",
     "text": [
      "enter position till u want split6\n",
      "splited array :  array('i', [655, 5, 7, 3, 87, 45, 85])\n"
     ]
    }
   ],
   "source": [
    "# 4.Write a Python Program to Split the array and add the first part to the end?\n",
    "a=ar.array('i',[5,7,3,87,45,85,655])\n",
    "n=int(input(\"enter position till u want split\"))\n",
    "b=a[n:]\n",
    "for i in a[:n]:\n",
    "    b.append(i)\n",
    "print(\"splited array : \",b)\n"
   ]
  },
  {
   "cell_type": "code",
   "execution_count": 68,
   "id": "8b528e47",
   "metadata": {},
   "outputs": [
    {
     "name": "stdout",
     "output_type": "stream",
     "text": [
      "enter length of array : 5\n",
      "enter 1 element : 98\n",
      "enter 2 element : 87\n",
      "enter 3 element : 76\n",
      "enter 4 element : 65\n",
      "enter 5 element : 54\n",
      "this is monotonic\n"
     ]
    }
   ],
   "source": [
    "# 5. Write a Python Program to check if given array is Monotonic?\n",
    "c=ar.array('i',[])\n",
    "n=int(input(\"enter length of array : \"))\n",
    "for i in range (n):\n",
    "    c.append(int(input(f\"enter {i+1} element : \")))\n",
    "k,l=[],[]\n",
    "k.extend(c)\n",
    "l.extend(c)\n",
    "k.sort()\n",
    "l.sort(reverse=True)\n",
    "if k==list(c):\n",
    "    print(\"this is monotonic\")\n",
    "elif l==list(c):\n",
    "    print(\"this is monotonic\")\n",
    "else:print(\"no this is not monotonic because \")"
   ]
  }
 ],
 "metadata": {
  "kernelspec": {
   "display_name": "Python 3 (ipykernel)",
   "language": "python",
   "name": "python3"
  },
  "language_info": {
   "codemirror_mode": {
    "name": "ipython",
    "version": 3
   },
   "file_extension": ".py",
   "mimetype": "text/x-python",
   "name": "python",
   "nbconvert_exporter": "python",
   "pygments_lexer": "ipython3",
   "version": "3.9.12"
  }
 },
 "nbformat": 4,
 "nbformat_minor": 5
}
