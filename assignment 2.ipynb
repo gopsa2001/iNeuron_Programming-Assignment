{
 "cells": [
  {
   "cell_type": "code",
   "execution_count": 3,
   "id": "f69b78a6",
   "metadata": {},
   "outputs": [
    {
     "name": "stdout",
     "output_type": "stream",
     "text": [
      "give km value : 345\n",
      "in miles :  214.372995\n"
     ]
    }
   ],
   "source": [
    "# 1. Write a Python program to convert kilometers to miles?\n",
    "n=int(input(\"give km value : \"))\n",
    "print(\"in miles : \", n*0.621371)"
   ]
  },
  {
   "cell_type": "code",
   "execution_count": 6,
   "id": "bf341b65",
   "metadata": {},
   "outputs": [
    {
     "name": "stdout",
     "output_type": "stream",
     "text": [
      "give celsius value : 342\n",
      "in fahrenheit :  647.6\n"
     ]
    }
   ],
   "source": [
    "# 2. Write a Python program to convert Celsius to Fahrenheit?\n",
    "C=int(input(\"give celsius value : \"))\n",
    "print(\"in fahrenheit : \",(C * 9/5) + 32)"
   ]
  },
  {
   "cell_type": "code",
   "execution_count": 10,
   "id": "a254f01b",
   "metadata": {},
   "outputs": [
    {
     "name": "stdout",
     "output_type": "stream",
     "text": [
      " press 1 for whole calendar of a year or press 2 for particular month in a year : 2\n",
      "input year : 2022\n",
      "input month as numeric : 8\n",
      "    August 2022\n",
      "Mo Tu We Th Fr Sa Su\n",
      " 1  2  3  4  5  6  7\n",
      " 8  9 10 11 12 13 14\n",
      "15 16 17 18 19 20 21\n",
      "22 23 24 25 26 27 28\n",
      "29 30 31\n",
      "\n"
     ]
    }
   ],
   "source": [
    "# 3. Write a Python program to display calendar?\n",
    "import calendar\n",
    "n=int(input(\" press 1 for whole calendar of a year or press 2 for particular month in a year : \"))\n",
    "if n==1:\n",
    "    y=int(input(\"input year : \"))\n",
    "    print(calendar.calendar(y))\n",
    "if n==2:\n",
    "    y=int(input(\"input year : \"))\n",
    "    m=int(input(\"input month as numeric : \"))\n",
    "    print(calendar.month(y,m))\n",
    "    \n",
    "    "
   ]
  },
  {
   "cell_type": "code",
   "execution_count": 5,
   "id": "edf2afa2",
   "metadata": {},
   "outputs": [
    {
     "name": "stdout",
     "output_type": "stream",
     "text": [
      "give value of 'a' :1\n",
      "give value of 'b' :4\n",
      "give value of 'c' :3\n",
      "first root is :  -1.0\n",
      "first root is :  -3.0\n"
     ]
    }
   ],
   "source": [
    "# 4. Write a Python program to solve quadratic equation?\n",
    "import math\n",
    "a=int(input(\"give value of 'a' :\"))\n",
    "b=int(input(\"give value of 'b' :\"))\n",
    "c=int(input(\"give value of 'c' :\"))\n",
    "print(\"first root is : \", (-(b)+math.sqrt((b**2)-4*a*c))/2*a)\n",
    "print(\"first root is : \", (-(b)-math.sqrt((b**2)-4*a*c))/2*a)\n"
   ]
  },
  {
   "cell_type": "code",
   "execution_count": 7,
   "id": "a5b0381f",
   "metadata": {},
   "outputs": [
    {
     "name": "stdout",
     "output_type": "stream",
     "text": [
      "input value of 'a' : 2324\n",
      "input value of 'b' : 45\n",
      "value of 'a' is :  45  value of 'b' is :  2324\n"
     ]
    }
   ],
   "source": [
    "# 5. Write a Python program to swap two variables without temp variable?\n",
    "a=int(input(\"input value of 'a' : \"))\n",
    "b=int(input(\"input value of 'b' : \"))\n",
    "a=a+b\n",
    "b=a-b\n",
    "a=a-b\n",
    "print(\"value of 'a' is : \",a,\" value of 'b' is : \",b)"
   ]
  }
 ],
 "metadata": {
  "kernelspec": {
   "display_name": "Python 3 (ipykernel)",
   "language": "python",
   "name": "python3"
  },
  "language_info": {
   "codemirror_mode": {
    "name": "ipython",
    "version": 3
   },
   "file_extension": ".py",
   "mimetype": "text/x-python",
   "name": "python",
   "nbconvert_exporter": "python",
   "pygments_lexer": "ipython3",
   "version": "3.9.12"
  }
 },
 "nbformat": 4,
 "nbformat_minor": 5
}
