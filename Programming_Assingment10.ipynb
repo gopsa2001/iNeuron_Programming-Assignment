{
 "cells": [
  {
   "cell_type": "code",
   "execution_count": 1,
   "id": "7427d56b",
   "metadata": {},
   "outputs": [
    {
     "name": "stdout",
     "output_type": "stream",
     "text": [
      "enter list length : 5\n",
      "enter 1 element :20\n",
      "enter 2 element :10\n",
      "enter 3 element :30\n",
      "enter 4 element :1\n",
      "enter 5 element :6\n",
      "sum of list :  67\n"
     ]
    }
   ],
   "source": [
    "# 1.Write a Python program to find sum of elements in list?\n",
    "n=int(input(\"enter list length : \"))\n",
    "l=[]\n",
    "for i in range (1,n+1):\n",
    "    l.append(int(input(f\"enter {i} element :\")))\n",
    "print(\"sum of list : \",sum(l))"
   ]
  },
  {
   "cell_type": "code",
   "execution_count": 4,
   "id": "30f33a1b",
   "metadata": {},
   "outputs": [
    {
     "name": "stdout",
     "output_type": "stream",
     "text": [
      "enter list length : 3\n",
      "enter 1 element :10\n",
      "enter 2 element :20\n",
      "enter 3 element :3\n",
      "Multiply all numbers in the list :  600\n"
     ]
    }
   ],
   "source": [
    "# 2.Write a Python program to  Multiply all numbers in the list?\n",
    "n=int(input(\"enter list length : \"))\n",
    "l=[]\n",
    "k=1\n",
    "for i in range (1,n+1):\n",
    "    l.append(int(input(f\"enter {i} element :\")))\n",
    "for j in range (n):\n",
    "    k=k*l[j]\n",
    "print(\"Multiply all numbers in the list : \",k)"
   ]
  },
  {
   "cell_type": "code",
   "execution_count": 5,
   "id": "b2d450d0",
   "metadata": {},
   "outputs": [
    {
     "name": "stdout",
     "output_type": "stream",
     "text": [
      "enter list length : 4\n",
      "enter 1 element :10\n",
      "enter 2 element :34\n",
      "enter 3 element :345\n",
      "enter 4 element :3\n",
      "minimum element in list :  3\n"
     ]
    }
   ],
   "source": [
    "# 3.Write a Python program to find smallest number in a list?\n",
    "n=int(input(\"enter list length : \"))\n",
    "l=[]\n",
    "for i in range (1,n+1):\n",
    "    l.append(int(input(f\"enter {i} element :\")))\n",
    "print(\"smallest element in list : \",min(l))"
   ]
  },
  {
   "cell_type": "code",
   "execution_count": 6,
   "id": "455d95ee",
   "metadata": {},
   "outputs": [
    {
     "name": "stdout",
     "output_type": "stream",
     "text": [
      "enter list length : 4\n",
      "enter 1 element :1\n",
      "enter 2 element :22\n",
      "enter 3 element :23\n",
      "enter 4 element :-1\n",
      "maximum element in list :  23\n"
     ]
    }
   ],
   "source": [
    "# 4.Write a Python program to find largest number in a list?\n",
    "n=int(input(\"enter list length : \"))\n",
    "l=[]\n",
    "for i in range (1,n+1):\n",
    "    l.append(int(input(f\"enter {i} element :\")))\n",
    "print(\"Largest element in list : \",max(l))"
   ]
  },
  {
   "cell_type": "code",
   "execution_count": 1,
   "id": "175dcd4d",
   "metadata": {},
   "outputs": [
    {
     "name": "stdout",
     "output_type": "stream",
     "text": [
      "enter list length : 3\n",
      "enter 1 element :23\n",
      "enter 2 element :43\n",
      "enter 3 element :4\n",
      "second largest number :  23\n"
     ]
    }
   ],
   "source": [
    "# 5.Write a Python program to find second largest number in a list?\n",
    "n=int(input(\"enter list length : \"))\n",
    "l=[]\n",
    "for i in range (1,n+1):\n",
    "    l.append(int(input(f\"enter {i} element :\")))\n",
    "l.sort()\n",
    "print(\"second largest number : \",l[-2])"
   ]
  },
  {
   "cell_type": "code",
   "execution_count": 3,
   "id": "a59c6df9",
   "metadata": {},
   "outputs": [
    {
     "name": "stdout",
     "output_type": "stream",
     "text": [
      "enter list length : 5\n",
      "enter 1 element :12\n",
      "enter 2 element :23\n",
      "enter 3 element :43\n",
      "enter 4 element :32\n",
      "enter 5 element :10\n",
      "enter n count till want largest : 3\n",
      "43,32,23,"
     ]
    }
   ],
   "source": [
    "# 6.Write a Python program to find N largest elements from a list?\n",
    "n=int(input(\"enter list length : \"))\n",
    "l=[]\n",
    "for i in range (1,n+1):\n",
    "    l.append(int(input(f\"enter {i} element :\")))\n",
    "a=int(input(\"enter n count till want largest : \"))\n",
    "l.sort(reverse=True)\n",
    "for i in range(a):\n",
    "    print(l[i],end=\",\")"
   ]
  },
  {
   "cell_type": "code",
   "execution_count": 4,
   "id": "4d524148",
   "metadata": {},
   "outputs": [
    {
     "name": "stdout",
     "output_type": "stream",
     "text": [
      "enter list length : 4\n",
      "enter 1 element : 23\n",
      "enter 2 element : 2\n",
      "enter 3 element : 4\n",
      "enter 4 element : 46\n",
      "even numbers in list : \n",
      "2 4 46 "
     ]
    }
   ],
   "source": [
    "# 7.Write a Python program to print even numbers in a list?\n",
    "n=int(input(\"enter list length : \"))\n",
    "l=[]\n",
    "for i in range (1,n+1):\n",
    "    l.append(int(input(f\"enter {i} element : \")))\n",
    "print(\"even numbers in list : \")\n",
    "for i in l:\n",
    "    if i%2==0:\n",
    "        print(i,end=\" \")\n",
    "    "
   ]
  },
  {
   "cell_type": "code",
   "execution_count": 7,
   "id": "05344cfc",
   "metadata": {},
   "outputs": [
    {
     "name": "stdout",
     "output_type": "stream",
     "text": [
      "enter list length : 5\n",
      "enter 1 element : 23\n",
      "enter 2 element : 19\n",
      "enter 3 element : 34\n",
      "enter 4 element : 66\n",
      "enter 5 element : 89\n",
      "prime number in list : \n",
      "23 19 89 "
     ]
    }
   ],
   "source": [
    "# 8.Write a Python program to print odd numbers in a List?\n",
    "n=int(input(\"enter list length : \"))\n",
    "l=[]\n",
    "for i in range (1,n+1):\n",
    "    l.append(int(input(f\"enter {i} element : \")))\n",
    "print(\"prime number in list : \")\n",
    "for num in l :\n",
    "\n",
    "    if num == 0 or num == 1 :\n",
    "        continue\n",
    "  \n",
    "    for i in range(2, (num // 2) + 1) :\n",
    "        if num % i == 0 :\n",
    "            break\n",
    "    else :\n",
    "            print(num,end=\" \")"
   ]
  },
  {
   "cell_type": "code",
   "execution_count": 20,
   "id": "4c4bf264",
   "metadata": {},
   "outputs": [
    {
     "name": "stdout",
     "output_type": "stream",
     "text": [
      "list before removing empty list :  [34, 23, 345, [3453, 25, 67], [], 476, 256, [], 1, [54], [], 34562, 75, [5443, 43, 32]]\n",
      "list after removing empty list :  [34, 23, 345, [3453, 25, 67], 476, 256, 1, [54], 34562, 75, [5443, 43, 32]]\n"
     ]
    }
   ],
   "source": [
    "# 9.Write a Python program to Remove empty List from List?\n",
    "l=[34,23,345,[3453,25,67],[],476,256,[],1,[54],[],34562,75,[5443,43,32]]\n",
    "print(\"list before removing empty list : \",l)\n",
    "for i in l:\n",
    "    if type(i)==list:\n",
    "        if len(i)==0:\n",
    "            l.remove(i)\n",
    "print(\"list after removing empty list : \",l)"
   ]
  },
  {
   "cell_type": "code",
   "execution_count": 21,
   "id": "401fd166",
   "metadata": {},
   "outputs": [
    {
     "name": "stdout",
     "output_type": "stream",
     "text": [
      "Original List: [4, 8, 2, 10, 15, 18]\n",
      "After Cloning: [4, 8, 2, 10, 15, 18]\n"
     ]
    }
   ],
   "source": [
    "# 10.Write a Python program to Cloning or Copying a list?\n",
    "l1= [4, 8, 2, 10, 15, 18]\n",
    "l2=l1[:]\n",
    "print(\"Original List:\", l1)\n",
    "print(\"After Cloning:\", l2)"
   ]
  },
  {
   "cell_type": "code",
   "execution_count": 25,
   "id": "02b86839",
   "metadata": {},
   "outputs": [
    {
     "name": "stdout",
     "output_type": "stream",
     "text": [
      "enter list length : 6\n",
      "enter 1 element : 34\n",
      "enter 2 element : 34\n",
      "enter 3 element : 2\n",
      "enter 4 element : 1\n",
      "enter 5 element : 23\n",
      "enter 6 element : 34\n",
      "enter number which you want count : 34\n",
      "34 occurreces 3 time\n"
     ]
    }
   ],
   "source": [
    "# 11.Write a Python program to Count occurrences of an element in a list?\n",
    "n=int(input(\"enter list length : \"))\n",
    "l=[]\n",
    "for i in range (1,n+1):\n",
    "    l.append(int(input(f\"enter {i} element : \")))\n",
    "m=int(input(\"enter number which you want count : \"))\n",
    "count=0\n",
    "for i in l:\n",
    "    if i==m:\n",
    "        count+=1\n",
    "print(f\"{m} occurreces {count} time\")"
   ]
  },
  {
   "cell_type": "code",
   "execution_count": null,
   "id": "7bfd2917",
   "metadata": {},
   "outputs": [],
   "source": []
  }
 ],
 "metadata": {
  "kernelspec": {
   "display_name": "Python 3 (ipykernel)",
   "language": "python",
   "name": "python3"
  },
  "language_info": {
   "codemirror_mode": {
    "name": "ipython",
    "version": 3
   },
   "file_extension": ".py",
   "mimetype": "text/x-python",
   "name": "python",
   "nbconvert_exporter": "python",
   "pygments_lexer": "ipython3",
   "version": "3.9.12"
  }
 },
 "nbformat": 4,
 "nbformat_minor": 5
}
