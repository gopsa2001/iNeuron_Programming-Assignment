{
 "cells": [
  {
   "cell_type": "markdown",
   "id": "a95c7490",
   "metadata": {},
   "source": [
    "Question 1:\n",
    "Please write a program using generator to print the numbers which can be divisible by 5 and 7 between 0 and n in comma separated form while n is input by console.\n",
    "Example:\n",
    "If the following n is given as input to the program:\n",
    "100\n",
    "Then, the output of the program should be:\n",
    "0,35,70"
   ]
  },
  {
   "cell_type": "code",
   "execution_count": 159,
   "id": "66883d37",
   "metadata": {},
   "outputs": [
    {
     "name": "stdout",
     "output_type": "stream",
     "text": [
      "100\n",
      "values divisible by 7 and 5 : \n",
      "0,35,70,"
     ]
    }
   ],
   "source": [
    "# Answer\n",
    "def genr(n):\n",
    "        for i in range(n):\n",
    "            if i%7==0 and i%5==0:\n",
    "                yield i\n",
    "n=int(input())\n",
    "print(\"values divisible by 7 and 5 : \")\n",
    "for i in genr(n):\n",
    "    print(i,end=\",\")"
   ]
  },
  {
   "cell_type": "markdown",
   "id": "9371554f",
   "metadata": {},
   "source": [
    "Question 2:\n",
    "Please write a program using generator to print the even numbers between 0 and n in comma separated form while n is input by console.\n",
    "Example:\n",
    "If the following n is given as input to the program:\n",
    "10\n",
    "Then, the output of the program should be:\n",
    "0,2,4,6,8,10"
   ]
  },
  {
   "cell_type": "code",
   "execution_count": 161,
   "id": "455d95ee",
   "metadata": {},
   "outputs": [
    {
     "name": "stdout",
     "output_type": "stream",
     "text": [
      "10\n",
      "even number  : \n",
      "0,2,4,6,8,10,"
     ]
    }
   ],
   "source": [
    "# Answer\n",
    "def ev(n):\n",
    "        for i in range(n+1):\n",
    "            if i%2==0 :\n",
    "                yield i\n",
    "n=int(input())\n",
    "print(\"even number  : \")\n",
    "for i in ev(n):\n",
    "    print(i,end=\",\")"
   ]
  },
  {
   "cell_type": "markdown",
   "id": "1b2097b0",
   "metadata": {},
   "source": [
    "Question 3:\n",
    "The Fibonacci Sequence is computed based on the following formula:\n",
    "f(n)=0 if n=0\n",
    "f(n)=1 if n=1\n",
    "f(n)=f(n-1)+f(n-2) if n>1\n",
    "Please write a program using list comprehension to print the Fibonacci Sequence in comma separated form with a given n input by console.\n",
    "Example:\n",
    "If the following n is given as input to the program:\n",
    "7\n",
    "\n",
    "Then, the output of the program should be:\n",
    "0,1,1,2,3,5,8,13\n"
   ]
  },
  {
   "cell_type": "code",
   "execution_count": 191,
   "id": "583721e4",
   "metadata": {},
   "outputs": [
    {
     "name": "stdout",
     "output_type": "stream",
     "text": [
      "21\n",
      "0,1,1,2,3,5,8,13,21,34,55,89,144,233,377,610,987,1597,2584,4181,6765,"
     ]
    }
   ],
   "source": [
    "# Answer\n",
    "n = int(input())\n",
    "fib = [0, 1]\n",
    "[fib.append(sum(fib[-2:])) for x in range(n)]\n",
    "for i in fib[:n]:\n",
    "    print(i,end=\",\")"
   ]
  },
  {
   "cell_type": "markdown",
   "id": "278160a7",
   "metadata": {},
   "source": [
    "Question 4:\n",
    "Assuming that we have some email addresses in the \"username@companyname.com\" format, please write program to print the user name of a given email address. Both user names and company names are composed of letters only.\n",
    "Example:\n",
    "If the following email address is given as input to the program:\n",
    "john@google.com\n",
    "Then, the output of the program should be:\n",
    "john"
   ]
  },
  {
   "cell_type": "code",
   "execution_count": 192,
   "id": "2f34e20f",
   "metadata": {},
   "outputs": [
    {
     "name": "stdout",
     "output_type": "stream",
     "text": [
      "username@companyname.com\n",
      "username\n"
     ]
    }
   ],
   "source": [
    "# Answer\n",
    "n=input()\n",
    "a=list(map(str,n.split(\"@\")))\n",
    "print(a[0])"
   ]
  },
  {
   "cell_type": "markdown",
   "id": "82f04bb4",
   "metadata": {},
   "source": [
    "Question 5:\n",
    "Define a class named Shape and its subclass Square. The Square class has an init function which takes a length as argument. Both classes have a area function which can print the area of the shape where Shape's area is 0 by default."
   ]
  },
  {
   "cell_type": "code",
   "execution_count": 198,
   "id": "765c0e36",
   "metadata": {},
   "outputs": [
    {
     "name": "stdout",
     "output_type": "stream",
     "text": [
      "23\n",
      "area :  529\n"
     ]
    }
   ],
   "source": [
    "# Answer\n",
    "class Shape:\n",
    "    def area(self):\n",
    "        print(0)\n",
    "class Square(Shape):\n",
    "    def __init__(self,l):\n",
    "        self.l=l\n",
    "    def area(self,l):\n",
    "        print(\"area : \",l**2)\n",
    "n=int(input())\n",
    "s=Square(n)\n",
    "s.area(n)"
   ]
  },
  {
   "cell_type": "code",
   "execution_count": null,
   "id": "1cdaa5a8",
   "metadata": {},
   "outputs": [],
   "source": []
  }
 ],
 "metadata": {
  "kernelspec": {
   "display_name": "Python 3 (ipykernel)",
   "language": "python",
   "name": "python3"
  },
  "language_info": {
   "codemirror_mode": {
    "name": "ipython",
    "version": 3
   },
   "file_extension": ".py",
   "mimetype": "text/x-python",
   "name": "python",
   "nbconvert_exporter": "python",
   "pygments_lexer": "ipython3",
   "version": "3.9.12"
  }
 },
 "nbformat": 4,
 "nbformat_minor": 5
}
