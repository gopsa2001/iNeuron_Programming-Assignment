{
 "cells": [
  {
   "cell_type": "markdown",
   "id": "e0a9c171",
   "metadata": {},
   "source": [
    "Question 1:\n",
    "\n",
    "Write a program that calculates and prints the value according to the given formula:\n",
    "\n",
    "Q = Square root of [(2 * C * D)/H]\n",
    "\n",
    "Following are the fixed values of C and H:\n",
    "\n",
    "C is 50. H is 30.\n",
    "\n",
    "D is the variable whose values should be input to your program in a comma-separated sequence.\n",
    "\n",
    "Example\n",
    "\n",
    "Let us assume the following comma separated input sequence is given to the program:\n",
    "\n",
    "100,150,180\n",
    "\n",
    "The output of the program should be:\n",
    "\n",
    "18,22,24"
   ]
  },
  {
   "cell_type": "code",
   "execution_count": 65,
   "id": "6f648396",
   "metadata": {},
   "outputs": [
    {
     "name": "stdout",
     "output_type": "stream",
     "text": [
      "Enter the numbers :100,150,180\n",
      "18,22,24\n"
     ]
    }
   ],
   "source": [
    "# Answer :\n",
    "import math\n",
    "s = (input(\"Enter the numbers :\"))\n",
    "l = list(map(int, s.split(\",\")))\n",
    "C,H=50,30\n",
    "for D in l:\n",
    "    if D==l[-1]:\n",
    "        print(int(math.sqrt((2 * C * D)/H)))\n",
    "    else:    \n",
    "        print(int(math.sqrt((2 * C * D)/H)),end=\",\")"
   ]
  },
  {
   "cell_type": "markdown",
   "id": "75ea4924",
   "metadata": {},
   "source": [
    "Question 2:\n",
    "Write a program which takes 2 digits, X,Y as input and generates a 2-dimensional array. The element value in the i-th row and j-th column of the array should be i*j.\n",
    "\n",
    "Note: i=0,1.., X-1; j=0,1,¡\u001fY-1.\n",
    "\n",
    "Example\n",
    "\n",
    "Suppose the following inputs are given to the program:\n",
    "\n",
    "3,5\n",
    "\n",
    "Then, the output of the program should be:\n",
    "\n",
    "[[0, 0, 0, 0, 0], [0, 1, 2, 3, 4], [0, 2, 4, 6, 8]] "
   ]
  },
  {
   "cell_type": "code",
   "execution_count": 75,
   "id": "455d95ee",
   "metadata": {},
   "outputs": [
    {
     "name": "stdout",
     "output_type": "stream",
     "text": [
      "Enter two values\n",
      "5,3\n",
      "x :  5\n",
      "y :  3\n",
      "[[0, 0, 0], [0, 1, 2], [0, 2, 4], [0, 3, 6], [0, 4, 8]]\n"
     ]
    }
   ],
   "source": [
    "# Answer :\n",
    "X,Y=[int(x) for x in input(\"Enter two values\\n\").split(',')]\n",
    "l=[]\n",
    "print(\"x : \",X)\n",
    "print(\"y : \",Y)\n",
    "for i in range(X):\n",
    "    k=[]\n",
    "    for j in range(Y):\n",
    "        k.append(i*j)\n",
    "    l.append(k)\n",
    "print(l)"
   ]
  },
  {
   "cell_type": "markdown",
   "id": "ebd7d96f",
   "metadata": {},
   "source": [
    "Question 3:\n",
    "Write a program that accepts a comma separated sequence of words as input and prints the words in a comma-separated sequence after sorting them alphabetically.\n",
    "\n",
    "Suppose the following input is supplied to the program:\n",
    "\n",
    "without,hello,bag,world\n",
    "\n",
    "Then, the output should be:\n",
    "\n",
    "bag,hello,without,world"
   ]
  },
  {
   "cell_type": "code",
   "execution_count": 78,
   "id": "341f8d36",
   "metadata": {},
   "outputs": [
    {
     "name": "stdout",
     "output_type": "stream",
     "text": [
      "hello,bye,good,noo,yes\n",
      "bye,good,hello,noo,yes\n"
     ]
    }
   ],
   "source": [
    "# Answer : \n",
    "l=list(map(str,input().split(\",\")))\n",
    "l.sort()\n",
    "for D in l:\n",
    "    if D==l[-1]:\n",
    "        print(D)\n",
    "    else:    \n",
    "        print(D,end=\",\")"
   ]
  },
  {
   "cell_type": "markdown",
   "id": "4c533a82",
   "metadata": {},
   "source": [
    "Question 4:\n",
    "Write a program that accepts a sequence of whitespace separated words as input and prints the words after removing all duplicate words and sorting them alphanumerically.\n",
    "\n",
    "Suppose the following input is supplied to the program:\n",
    "\n",
    "hello world and practice makes perfect and hello world again\n",
    "\n",
    "Then, the output should be:\n",
    "\n",
    "again and hello makes perfect practice world"
   ]
  },
  {
   "cell_type": "code",
   "execution_count": 80,
   "id": "73d838c5",
   "metadata": {},
   "outputs": [
    {
     "name": "stdout",
     "output_type": "stream",
     "text": [
      "hey i m python hey i have good libraries\n",
      "good have hey i libraries m python "
     ]
    }
   ],
   "source": [
    "# Answer:\n",
    "l=list(map(str,input().split(\" \")))\n",
    "l=sorted(set(l))\n",
    "for i in l:\n",
    "    print(i,end=\" \")"
   ]
  },
  {
   "cell_type": "markdown",
   "id": "e2eab807",
   "metadata": {},
   "source": [
    "Question 5:\n",
    "Write a program that accepts a sentence and calculate the number of letters and digits.\n",
    "\n",
    "Suppose the following input is supplied to the program:\n",
    "\n",
    "hello world! 123\n",
    "\n",
    "Then, the output should be:\n",
    "\n",
    "LETTERS 10\n",
    "\n",
    "DIGITS 3"
   ]
  },
  {
   "cell_type": "code",
   "execution_count": 82,
   "id": "1b2b194c",
   "metadata": {},
   "outputs": [
    {
     "name": "stdout",
     "output_type": "stream",
     "text": [
      "hello world! 123 \n",
      "LETTERS  10\n",
      "DIGIT  3\n"
     ]
    }
   ],
   "source": [
    "# Answer:\n",
    "n=input()\n",
    "d,l=0,0\n",
    "punc = '''!()-[]{};:'\"\\,<>./?@#$%^&*_~ '''\n",
    "for i in n:\n",
    "    if i not in punc:\n",
    "            try:\n",
    "                int(i)\n",
    "                d+=1\n",
    "            except:\n",
    "                l+=1\n",
    "print(\"LETTERS \",l)\n",
    "print(\"DIGIT \",d)"
   ]
  },
  {
   "cell_type": "markdown",
   "id": "f2cfba6f",
   "metadata": {},
   "source": [
    "Question 6:\n",
    "A website requires the users to input username and password to register. Write a program to check the validity of password input by users.\n",
    "\n",
    "Following are the criteria for checking the password:\n",
    "\n",
    "1. At least 1 letter between [a-z]\n",
    "\n",
    "2. At least 1 number between [0-9]\n",
    "\n",
    "1. At least 1 letter between [A-Z]\n",
    "\n",
    "3. At least 1 character from [$#@]\n",
    "\n",
    "4. Minimum length of transaction password: 6\n",
    "\n",
    "5. Maximum length of transaction password: 12\n",
    "\n",
    "Your program should accept a sequence of comma separated passwords and will check them according to the above criteria. Passwords that match the criteria are to be printed, each separated by a comma.\n",
    "\n",
    "Example\n",
    "\n",
    "If the following passwords are given as input to the program:\n",
    "\n",
    "ABd1234@1,a F1#,2w3E*,2We3345\n",
    "\n",
    "Then, the output of the program should be:\n",
    "\n",
    "ABd1234@1"
   ]
  },
  {
   "cell_type": "code",
   "execution_count": 105,
   "id": "2fc8f86f",
   "metadata": {},
   "outputs": [
    {
     "name": "stdout",
     "output_type": "stream",
     "text": [
      "Python@dat2$,python@1990,Python@2,jp@19,Jupyter\n",
      "Python@dat2$\n",
      "Python@2\n"
     ]
    }
   ],
   "source": [
    "# Answer\n",
    "n=input()\n",
    "l=list(map(str,n.split(\",\")))\n",
    "sl='''qwertyuiopasdfghjklzxcvbnm'''\n",
    "cl='''QWERTYUIOPASDFGHJKLZXCVBNM'''\n",
    "dg='''1234567890'''\n",
    "sc='''$#@'''\n",
    "for i in l:\n",
    "    if 12>=len(i)>=6:\n",
    "            k=set()\n",
    "            for j in i:\n",
    "                if j in sl:\n",
    "                    k.add(1)\n",
    "                if j in cl:\n",
    "                    k.add(2)\n",
    "                if j in dg:\n",
    "                    k.add(3)\n",
    "                if j in sc:\n",
    "                    k.add(4)\n",
    "            if k=={1,2,3,4}:\n",
    "                    print(i)\n",
    "            "
   ]
  }
 ],
 "metadata": {
  "kernelspec": {
   "display_name": "Python 3 (ipykernel)",
   "language": "python",
   "name": "python3"
  },
  "language_info": {
   "codemirror_mode": {
    "name": "ipython",
    "version": 3
   },
   "file_extension": ".py",
   "mimetype": "text/x-python",
   "name": "python",
   "nbconvert_exporter": "python",
   "pygments_lexer": "ipython3",
   "version": "3.9.12"
  }
 },
 "nbformat": 4,
 "nbformat_minor": 5
}
