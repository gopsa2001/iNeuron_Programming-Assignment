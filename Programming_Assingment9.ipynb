{
 "cells": [
  {
   "cell_type": "code",
   "execution_count": 34,
   "id": "7427d56b",
   "metadata": {},
   "outputs": [
    {
     "name": "stdout",
     "output_type": "stream",
     "text": [
      "enter number : 175\n",
      "is this number disarium :  YES\n"
     ]
    }
   ],
   "source": [
    "# 1.Write a Python program to check if the given number is a Disarium Number?\n",
    "def is_disarium(num):\n",
    "    temp = 0\n",
    "    for i in range(len(str(num))):\n",
    "        temp += int(str(num)[i]) ** (i + 1)\n",
    "    if temp == num:\n",
    "        return \"YES\"\n",
    "    else:\n",
    "        return \"NO\"\n",
    "n=int(input(\"enter number : \"))\n",
    "print(\"is this number disarium : \",is_disarium(n))"
   ]
  },
  {
   "cell_type": "code",
   "execution_count": 32,
   "id": "3a5f5a27",
   "metadata": {},
   "outputs": [
    {
     "name": "stdout",
     "output_type": "stream",
     "text": [
      "all disarium numbers between 1 to 100 : \n",
      "1\n",
      "2\n",
      "3\n",
      "4\n",
      "5\n",
      "6\n",
      "7\n",
      "8\n",
      "9\n",
      "89\n"
     ]
    }
   ],
   "source": [
    "# 2.Write a Python program to print all disarium numbers between 1 to 100?\n",
    "def disarium():\n",
    "    for j in range(1,100):\n",
    "        temp = 0\n",
    "        for i in range(len(str(j))):\n",
    "                temp += int(str(j)[i]) ** (i + 1)\n",
    "        if temp==j:\n",
    "            print(j)\n",
    "print(\"all disarium numbers between 1 to 100 : \")\n",
    "disarium()"
   ]
  },
  {
   "cell_type": "code",
   "execution_count": 61,
   "id": "b2d450d0",
   "metadata": {},
   "outputs": [
    {
     "name": "stdout",
     "output_type": "stream",
     "text": [
      "enter input : 23\n",
      "happy number\n"
     ]
    }
   ],
   "source": [
    "def isHappy(n):    \n",
    "    r = s = 0;    \n",
    "    while(n > 0):    \n",
    "        r = n%10    \n",
    "        s += r**2  \n",
    "        n //= 10    \n",
    "    return s  \n",
    "        \n",
    "n = int(input(\"enter input : \"))    \n",
    "res = n    \n",
    "     \n",
    "while(res != 1 and res != 4):    \n",
    "    res = isHappy(res)    \n",
    "     \n",
    "if(res == 1):    \n",
    "    print(\"happy number\")\n",
    "elif(res == 4):    \n",
    "    print(\"not a happy number\") "
   ]
  },
  {
   "cell_type": "code",
   "execution_count": 60,
   "id": "455d95ee",
   "metadata": {},
   "outputs": [
    {
     "name": "stdout",
     "output_type": "stream",
     "text": [
      "all Happy numbers between 1 to 100 : \n",
      "1\n",
      "7\n",
      "10\n",
      "13\n",
      "19\n",
      "23\n",
      "28\n",
      "31\n",
      "32\n",
      "44\n",
      "49\n",
      "68\n",
      "70\n",
      "79\n",
      "82\n",
      "86\n",
      "91\n",
      "94\n",
      "97\n"
     ]
    }
   ],
   "source": [
    "# 4.Write a Python program to print all happy numbers between 1 and 100?\n",
    "def isHappy(n):    \n",
    "    r = s = 0;    \n",
    "    while(n > 0):    \n",
    "        r = n%10    \n",
    "        s += r**2  \n",
    "        n //= 10    \n",
    "    return s  \n",
    "              \n",
    "     \n",
    "while(res != 1 and res != 4):    \n",
    "    res = isHappy(res)    \n",
    "print(\"all Happy numbers between 1 to 100 : \")\n",
    "j=0\n",
    "for j in range (1,100):\n",
    "        res=j\n",
    "        while(res != 1 and res != 4):    \n",
    "            res = isHappy(res)\n",
    "        if(res == 1):    \n",
    "            print(j)"
   ]
  },
  {
   "cell_type": "code",
   "execution_count": 64,
   "id": "4c84d156",
   "metadata": {},
   "outputs": [
    {
     "name": "stdout",
     "output_type": "stream",
     "text": [
      "Enter number: 153\n",
      "153 is Harshad Number\n"
     ]
    }
   ],
   "source": [
    "# 5.Write a Python program to determine whether the given number is a Harshad Number?\n",
    "number = int(input('Enter number: '))\n",
    "copy = number\n",
    "digit_sum = 0\n",
    "\n",
    "while number:\n",
    "    digit_sum += number%10\n",
    "    number //= 10\n",
    "if copy%digit_sum == 0:\n",
    "    print(f'{copy} is Harshad Number')\n",
    "else:\n",
    "    print(f'{copy} is  not Harshad Number')"
   ]
  },
  {
   "cell_type": "code",
   "execution_count": 70,
   "id": "58cec59c",
   "metadata": {},
   "outputs": [
    {
     "name": "stdout",
     "output_type": "stream",
     "text": [
      "all pronic numbers between 1 and 100 : \n",
      "2\n",
      "6\n",
      "12\n",
      "20\n",
      "30\n",
      "42\n",
      "56\n",
      "72\n",
      "90\n"
     ]
    }
   ],
   "source": [
    "# 6.Write a Python program to print all pronic numbers between 1 and 100?\n",
    "print(\"all pronic numbers between 1 and 100 : \")\n",
    "j=0\n",
    "for j in range(1,100):\n",
    "    f = 0\n",
    "    for i in range(j):\n",
    "            if i * (i + 1) == j:\n",
    "                f = 1\n",
    "                break\n",
    "    if f==1:\n",
    "                print(j)\n"
   ]
  },
  {
   "cell_type": "code",
   "execution_count": null,
   "id": "33497e0e",
   "metadata": {},
   "outputs": [],
   "source": []
  }
 ],
 "metadata": {
  "kernelspec": {
   "display_name": "Python 3 (ipykernel)",
   "language": "python",
   "name": "python3"
  },
  "language_info": {
   "codemirror_mode": {
    "name": "ipython",
    "version": 3
   },
   "file_extension": ".py",
   "mimetype": "text/x-python",
   "name": "python",
   "nbconvert_exporter": "python",
   "pygments_lexer": "ipython3",
   "version": "3.9.12"
  }
 },
 "nbformat": 4,
 "nbformat_minor": 5
}
