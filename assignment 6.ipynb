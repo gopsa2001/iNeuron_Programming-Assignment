{
 "cells": [
  {
   "cell_type": "code",
   "execution_count": 11,
   "id": "c5b5cb8e",
   "metadata": {
    "scrolled": false
   },
   "outputs": [
    {
     "name": "stdout",
     "output_type": "stream",
     "text": [
      "input number till u want series : 10\n",
      "Fibonacci sequence:\n",
      "0 1 1 2 3 5 8 13 21 34 "
     ]
    }
   ],
   "source": [
    "# 1. Write a Python Program to Display Fibonacci Sequence Using Recursion?\n",
    "n=int(input(\"input number till u want series : \"))\n",
    "def fibo(n):\n",
    "        if n <= 1:\n",
    "            return n\n",
    "        else:\n",
    "            return(fibo(n-1) + fibo(n-2))\n",
    "print(\"Fibonacci sequence:\")\n",
    "for i in range(n):\n",
    "    print(fibo(i),end=\" \")"
   ]
  },
  {
   "cell_type": "code",
   "execution_count": 14,
   "id": "54f042a4",
   "metadata": {},
   "outputs": [
    {
     "name": "stdout",
     "output_type": "stream",
     "text": [
      "enter number for factorial : 6\n",
      "factorial is :  720\n"
     ]
    }
   ],
   "source": [
    "# 2. Write a Python Program to Find Factorial of Number Using Recursion?\n",
    "n=int(input(\"enter number for factorial : \"))\n",
    "def factorial(n):\n",
    "        if n == 1:\n",
    "            return n\n",
    "        else:\n",
    "            return n*factorial(n-1)\n",
    "print(\"factorial is : \",factorial(n))"
   ]
  },
  {
   "cell_type": "code",
   "execution_count": 16,
   "id": "23bcb357",
   "metadata": {},
   "outputs": [
    {
     "name": "stdout",
     "output_type": "stream",
     "text": [
      "Enter the height in cm : 178\n",
      "Enter the weight in kg : 71\n",
      "Your Body Mass Index is :  22.408786769347305\n"
     ]
    }
   ],
   "source": [
    "# 3. Write a Python Program to calculate your Body Mass Index?\n",
    "height = float(input(\"Enter the height in cm : \"))  \n",
    "weight = float(input(\"Enter the weight in kg : \"))  \n",
    "BMI = weight / (height/100)**2    \n",
    "print(\"Your Body Mass Index is : \", BMI)    "
   ]
  },
  {
   "cell_type": "code",
   "execution_count": 20,
   "id": "beaa4b5a",
   "metadata": {},
   "outputs": [
    {
     "name": "stdout",
     "output_type": "stream",
     "text": [
      "enter number for logrithm : 14\n",
      "Natural logarithm of 14 is :  2.6390573296152584\n"
     ]
    }
   ],
   "source": [
    "# 4. Write a Python Program to calculate the natural logarithm of any number?\n",
    "import math\n",
    "n=int(input(\"enter number for logrithm : \"))\n",
    "print (f\"Natural logarithm of {n} is : \", math.log(n))"
   ]
  },
  {
   "cell_type": "code",
   "execution_count": 22,
   "id": "23d1f8c1",
   "metadata": {},
   "outputs": [
    {
     "name": "stdout",
     "output_type": "stream",
     "text": [
      "enter number for cube sum : 10\n",
      "sum is :  3025\n"
     ]
    }
   ],
   "source": [
    "# 5. Write a Python Program for cube sum of first n natural numbers?\n",
    "n=int(input(\"enter number for cube sum : \"))\n",
    "s=0\n",
    "for i in range(1,n+1):\n",
    "    s=s+pow(i,3)\n",
    "print(\"sum is : \",s) \n"
   ]
  },
  {
   "cell_type": "code",
   "execution_count": null,
   "id": "9dfec8a1",
   "metadata": {},
   "outputs": [],
   "source": []
  }
 ],
 "metadata": {
  "kernelspec": {
   "display_name": "Python 3 (ipykernel)",
   "language": "python",
   "name": "python3"
  },
  "language_info": {
   "codemirror_mode": {
    "name": "ipython",
    "version": 3
   },
   "file_extension": ".py",
   "mimetype": "text/x-python",
   "name": "python",
   "nbconvert_exporter": "python",
   "pygments_lexer": "ipython3",
   "version": "3.9.12"
  }
 },
 "nbformat": 4,
 "nbformat_minor": 5
}
