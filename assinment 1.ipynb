{
 "cells": [
  {
   "cell_type": "code",
   "execution_count": 28,
   "id": "aef5eada",
   "metadata": {},
   "outputs": [
    {
     "name": "stdout",
     "output_type": "stream",
     "text": [
      "Hello Python\n"
     ]
    }
   ],
   "source": [
    "# 1. Write a Python program to print (\"Hello Python\") ?\n",
    "print(\"Hello Python\")"
   ]
  },
  {
   "cell_type": "code",
   "execution_count": 30,
   "id": "ada23de2",
   "metadata": {},
   "outputs": [
    {
     "name": "stdout",
     "output_type": "stream",
     "text": [
      "give first number 345636345645636\n",
      "give second number 234523\n",
      "addition is :  345636345880159\n",
      "division is :  1473784429.013939\n"
     ]
    }
   ],
   "source": [
    "# 2. Write a Python program to do arithmetical operations addition and division.?\n",
    "a=int(input(\"give first number \"))\n",
    "b=int(input(\"give second number \"))\n",
    "print(\"addition is : \",a+b)\n",
    "print(\"division is : \",a/b)"
   ]
  },
  {
   "cell_type": "code",
   "execution_count": 31,
   "id": "d8bfe0af",
   "metadata": {},
   "outputs": [
    {
     "name": "stdout",
     "output_type": "stream",
     "text": [
      "give base of triangle  34\n",
      "give heignt of triangle 23\n",
      "area of triangle is :  391.0\n"
     ]
    }
   ],
   "source": [
    "# 3. Write a Python program to find the area of a triangle?\n",
    "a=int(input(\"give base of triangle  \"))\n",
    "b=int(input(\"give heignt of triangle \"))\n",
    "print(\"area of triangle is : \",(a*b)/2)"
   ]
  },
  {
   "cell_type": "code",
   "execution_count": 32,
   "id": "02bff4ec",
   "metadata": {},
   "outputs": [
    {
     "name": "stdout",
     "output_type": "stream",
     "text": [
      "give value of a 34\n",
      "give value of b 34533453\n",
      "value of a is :  34533453  value of b is :  34\n"
     ]
    }
   ],
   "source": [
    "# 4. Write a Python program to swap two variables?\n",
    "a=int(input(\"give value of a \"))\n",
    "b=int(input(\"give value of b \"))\n",
    "c=a\n",
    "a=b\n",
    "b=c\n",
    "print(\"value of a is : \",a ,\" value of b is : \",b)"
   ]
  },
  {
   "cell_type": "code",
   "execution_count": 33,
   "id": "50230846",
   "metadata": {},
   "outputs": [
    {
     "name": "stdout",
     "output_type": "stream",
     "text": [
      "give range for genrating no\n",
      "give upr value 45\n",
      "give lower value 3567356675\n",
      "1522117650\n"
     ]
    }
   ],
   "source": [
    "# 5. Write a Python program to generate a random number?\n",
    "import random\n",
    "print(\"give range for genrating no\")\n",
    "a=int(input(\"give upr value \"))\n",
    "b=int(input(\"give lower value \"))\n",
    "num = random.randint(a,b)\n",
    "print(num)"
   ]
  },
  {
   "cell_type": "code",
   "execution_count": null,
   "id": "ea81ac24",
   "metadata": {},
   "outputs": [],
   "source": []
  }
 ],
 "metadata": {
  "kernelspec": {
   "display_name": "Python 3 (ipykernel)",
   "language": "python",
   "name": "python3"
  },
  "language_info": {
   "codemirror_mode": {
    "name": "ipython",
    "version": 3
   },
   "file_extension": ".py",
   "mimetype": "text/x-python",
   "name": "python",
   "nbconvert_exporter": "python",
   "pygments_lexer": "ipython3",
   "version": "3.9.12"
  }
 },
 "nbformat": 4,
 "nbformat_minor": 5
}
