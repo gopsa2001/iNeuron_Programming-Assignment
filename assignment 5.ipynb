{
 "cells": [
  {
   "cell_type": "code",
   "execution_count": 3,
   "id": "c5b5cb8e",
   "metadata": {
    "scrolled": false
   },
   "outputs": [
    {
     "name": "stdout",
     "output_type": "stream",
     "text": [
      "input number for lcm with space sapreted 34 45 56 234\n",
      "lcm is :  556920\n"
     ]
    }
   ],
   "source": [
    "# 1. Write a Python Program to Find LCM?\n",
    "inputs = list(map(int,input(\"input number for lcm with space sapreted \").split()))\n",
    "grt=max(inputs)\n",
    "while(True):\n",
    "    j=0\n",
    "    for i in inputs:\n",
    "        if grt%i==0:\n",
    "            j+=1\n",
    "    if j==len(inputs):\n",
    "        break\n",
    "    grt+=1\n",
    "print(\"lcm is : \",grt)\n",
    "        "
   ]
  },
  {
   "cell_type": "code",
   "execution_count": 4,
   "id": "54f042a4",
   "metadata": {},
   "outputs": [
    {
     "name": "stdout",
     "output_type": "stream",
     "text": [
      "input number for hcf with space sapreted 34 45 56 234\n",
      "hcf is :  1\n"
     ]
    }
   ],
   "source": [
    "# 2. Write a Python Program to Find HCF?\n",
    "inputs = list(map(int,input(\"input number for hcf with space sapreted \").split()))\n",
    "sml=min(inputs)\n",
    "for i in range(1,sml+1):\n",
    "    k=0\n",
    "    for j in inputs:\n",
    "        if j%i==0:\n",
    "            k+=1\n",
    "    if k==len(inputs):\n",
    "        sml=i\n",
    "       \n",
    "            \n",
    "print(\"hcf is : \",sml)\n",
    "        "
   ]
  },
  {
   "cell_type": "code",
   "execution_count": 27,
   "id": "23bcb357",
   "metadata": {},
   "outputs": [
    {
     "name": "stdout",
     "output_type": "stream",
     "text": [
      "enter decimal number : 34523\n",
      "binary :  1000011011011011\n",
      "octal :  103333\n",
      "hexa :  86DB\n"
     ]
    }
   ],
   "source": [
    "# 3. Write a Python Program to Convert Decimal to Binary, Octal and Hexadecimal?\n",
    "table ={0: '0', 1: '1', 2: '2', 3: '3', 4: '4',\n",
    "        5: '5', 6: '6', 7: '7',\n",
    "        8: '8', 9: '9', 10: 'A', 11: 'B', 12: 'C',\n",
    "        13: 'D', 14: 'E', 15: 'F'}\n",
    "inpoot=int(input(\"enter decimal number : \"))\n",
    "re=\"\"\n",
    "def binaryconvert(inpoot):\n",
    "    l=[]\n",
    "    while(inpoot>0):\n",
    "        rem=inpoot%2\n",
    "        l.append(str(rem))\n",
    "        inpoot=inpoot//2\n",
    "    binry=re.join(l)\n",
    "    return binry[::-1]\n",
    "def octalconvert(inpoot):\n",
    "    l=[]\n",
    "    while(inpoot>0):\n",
    "        rem=inpoot%8\n",
    "        l.append(str(rem))\n",
    "        inpoot=inpoot//8\n",
    "    octal=re.join(l)\n",
    "    return octal[::-1]\n",
    "def hexaconvert(inpoot):\n",
    "    l=[]\n",
    "    while(inpoot>0):\n",
    "        rem=inpoot%16\n",
    "        l.append(table[rem])\n",
    "        inpoot=inpoot//16\n",
    "    hexa=re.join(l)\n",
    "    return hexa[::-1]\n",
    "print(\"binary : \",binaryconvert(inpoot))\n",
    "print(\"octal : \",octalconvert(inpoot))\n",
    "print(\"hexa : \",hexaconvert(inpoot))\n"
   ]
  },
  {
   "cell_type": "code",
   "execution_count": 5,
   "id": "beaa4b5a",
   "metadata": {},
   "outputs": [
    {
     "name": "stdout",
     "output_type": "stream",
     "text": [
      "enter chacracter for ascii valuep\n",
      "converted ascii value is :  112\n"
     ]
    }
   ],
   "source": [
    "# 4. Write a Python Program To Find ASCII value of a character?\n",
    "inpoot=input(\"enter chacracter for ascii value\")\n",
    "print(\"converted ascii value is : \",ord(inpoot))"
   ]
  },
  {
   "cell_type": "code",
   "execution_count": 6,
   "id": "23d1f8c1",
   "metadata": {},
   "outputs": [
    {
     "name": "stdout",
     "output_type": "stream",
     "text": [
      "enter first number34\n",
      "enter second number56\n",
      "enter opertaion which u want like +,-,*,/ -\n",
      "-22\n"
     ]
    }
   ],
   "source": [
    "# 5. Write a Python Program to Make a Simple Calculator with 4 basic mathematical operations?\n",
    "a=int(input(\"enter first number\"))\n",
    "b=int(input(\"enter second number\"))\n",
    "c=input(\"enter opertaion which u want like +,-,*,/ \")\n",
    "if c=='+':\n",
    "    print(a+b)\n",
    "if c=='-':\n",
    "    print(a-b)\n",
    "if c=='*':\n",
    "    print(a*b)\n",
    "if c=='/':\n",
    "    print(a/b)"
   ]
  },
  {
   "cell_type": "code",
   "execution_count": null,
   "id": "9dfec8a1",
   "metadata": {},
   "outputs": [],
   "source": []
  }
 ],
 "metadata": {
  "kernelspec": {
   "display_name": "Python 3 (ipykernel)",
   "language": "python",
   "name": "python3"
  },
  "language_info": {
   "codemirror_mode": {
    "name": "ipython",
    "version": 3
   },
   "file_extension": ".py",
   "mimetype": "text/x-python",
   "name": "python",
   "nbconvert_exporter": "python",
   "pygments_lexer": "ipython3",
   "version": "3.9.12"
  }
 },
 "nbformat": 4,
 "nbformat_minor": 5
}
