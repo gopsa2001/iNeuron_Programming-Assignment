{
 "cells": [
  {
   "cell_type": "markdown",
   "id": "16e92aec",
   "metadata": {},
   "source": [
    "Question 1:\n",
    "\n",
    "Define a class with a generator which can iterate the numbers, which are divisible by 7, between a given range 0 and n."
   ]
  },
  {
   "cell_type": "code",
   "execution_count": 109,
   "id": "9118a6f2",
   "metadata": {},
   "outputs": [
    {
     "name": "stdout",
     "output_type": "stream",
     "text": [
      "89\n",
      "values divisible by 7 : \n",
      "0\n",
      "7\n",
      "14\n",
      "21\n",
      "28\n",
      "35\n",
      "42\n",
      "49\n",
      "56\n",
      "63\n",
      "70\n",
      "77\n",
      "84\n"
     ]
    }
   ],
   "source": [
    "# Answer\n",
    "class gen:\n",
    "    def genr(self,n):\n",
    "        for i in range(n):\n",
    "            if i%7==0:\n",
    "                yield i\n",
    "g=gen()\n",
    "n=int(input())\n",
    "print(\"values divisible by 7 : \")\n",
    "for i in g.genr(n):\n",
    "    print(i)"
   ]
  },
  {
   "cell_type": "markdown",
   "id": "32dc236a",
   "metadata": {},
   "source": [
    "Question 2:\n",
    "Write a program to compute the frequency of the words from the input. The output should output after sorting the key alphanumerically. \n",
    "\n",
    "Suppose the following input is supplied to the program:\n",
    "\n",
    "New to Python or choosing between Python 2 and Python 3? Read Python 2 or Python 3.\n",
    "\n",
    "Then, the output should be:\n",
    "\n",
    "2:2\n",
    "\n",
    "3.:1\n",
    "\n",
    "3?:1\n",
    "\n",
    "New:1\n",
    "\n",
    "Python:5\n",
    "\n",
    "Read:1\n",
    "\n",
    "and:1\n",
    "\n",
    "between:1\n",
    "\n",
    "choosing:1\n",
    "\n",
    "or:2\n",
    "\n",
    "to:1\n"
   ]
  },
  {
   "cell_type": "code",
   "execution_count": 110,
   "id": "455d95ee",
   "metadata": {},
   "outputs": [
    {
     "name": "stdout",
     "output_type": "stream",
     "text": [
      "New to Python or choosing between Python 2 and Python 3? Read Python 2 or Python 3\n",
      "Python : 5\n",
      "between : 1\n",
      "3 : 1\n",
      "and : 1\n",
      "2 : 2\n",
      "New : 1\n",
      "to : 1\n",
      "choosing : 1\n",
      "Read : 1\n",
      "or : 2\n",
      "3? : 1\n"
     ]
    }
   ],
   "source": [
    "# Answer\n",
    "n=input()\n",
    "l=list(map(str,n.split(\" \")))\n",
    "s=set(l)\n",
    "for i in s:\n",
    "    c=0\n",
    "    for j in l:\n",
    "        if i==j:\n",
    "            c+=1\n",
    "    print(i,\":\",c)"
   ]
  },
  {
   "cell_type": "markdown",
   "id": "1e6256ed",
   "metadata": {},
   "source": [
    "Question 3:\n",
    "Define a class Person and its two child classes: Male and Female. All classes have a method \"getGender\" which can print \"Male\" for Male class and \"Female\" for Female class"
   ]
  },
  {
   "cell_type": "code",
   "execution_count": 117,
   "id": "e5298bca",
   "metadata": {},
   "outputs": [
    {
     "name": "stdout",
     "output_type": "stream",
     "text": [
      "Male or Female\n",
      "Male\n",
      "Female\n"
     ]
    }
   ],
   "source": [
    "# Answer : \n",
    "class Person:\n",
    "    def getGender(self):\n",
    "        print(\"Male or Female\")\n",
    "class Male(Person):\n",
    "    def getGender(self):\n",
    "        print(\"Male\")\n",
    "class Female(Person):\n",
    "    def getGender(self):\n",
    "        print(\"Female\")\n",
    "p=Person()\n",
    "m=Male()\n",
    "f=Female()\n",
    "p.getGender()\n",
    "m.getGender()\n",
    "f.getGender()"
   ]
  },
  {
   "cell_type": "markdown",
   "id": "d0712ad8",
   "metadata": {},
   "source": [
    "Question 4:\n",
    "Please write a program to generate all sentences where subject is in [\"I\", \"You\"] and verb is in [\"Play\", \"Love\"] and the object is in [\"Hockey\",\"Football\"]."
   ]
  },
  {
   "cell_type": "code",
   "execution_count": 119,
   "id": "d700815f",
   "metadata": {},
   "outputs": [
    {
     "name": "stdout",
     "output_type": "stream",
     "text": [
      "I Play Hockey\n",
      "I Play Football\n",
      "I Love Hockey\n",
      "I Love Football\n",
      "You Play Hockey\n",
      "You Play Football\n",
      "You Love Hockey\n",
      "You Love Football\n"
     ]
    }
   ],
   "source": [
    "# Answer:\n",
    "s=[\"I\", \"You\"]\n",
    "v=[\"Play\", \"Love\"]\n",
    "o=[\"Hockey\",\"Football\"]\n",
    "for i in range(0,2):\n",
    "    for j in range(0,2):\n",
    "        for k in range(0,2):\n",
    "            print(s[i],v[j],o[k])"
   ]
  },
  {
   "cell_type": "markdown",
   "id": "7ae9ef7d",
   "metadata": {},
   "source": [
    "Question 5:\n",
    "Please write a program to compress and decompress the string \"hello world!hello world!hello world!hello world!\"."
   ]
  },
  {
   "cell_type": "code",
   "execution_count": 147,
   "id": "d1b48744",
   "metadata": {},
   "outputs": [
    {
     "name": "stdout",
     "output_type": "stream",
     "text": [
      "hello world!4\n"
     ]
    },
    {
     "data": {
      "text/plain": [
       "'hello world!hello world!hello world!hello world!'"
      ]
     },
     "execution_count": 147,
     "metadata": {},
     "output_type": "execute_result"
    }
   ],
   "source": [
    "# Answer:\n",
    "s=\"hello world!hello world!hello world!hello world!\"\n",
    "l=list(map(str,s.split(\"!\")))\n",
    "def compress(l):\n",
    "    i = 0\n",
    "    comp = \"\"\n",
    "    len_str = len(l)\n",
    "    while i != len_str:\n",
    "        c = 1\n",
    "        while (i < len_str-1) and (l[i] == l[i+1]):\n",
    "            c = c + 1\n",
    "            i = i + 1\n",
    "        if c == 1:\n",
    "            comp += str(l[i])\n",
    "        else:\n",
    "            comp += str(l[i]+'!') + str(c)\n",
    "        i = i + 1\n",
    "    return comp\n",
    "def decompress(comp):\n",
    "    decmp=\"\"\n",
    "    o=0\n",
    "    for j in comp:\n",
    "        o+=1\n",
    "        try:\n",
    "            k=int(j)\n",
    "            decmp=str(comp[:o-1])*k\n",
    "        except:\n",
    "            pass\n",
    "    return decmp\n",
    "cm=compress(l)\n",
    "print(cm)\n",
    "decompress(cm)\n"
   ]
  },
  {
   "cell_type": "markdown",
   "id": "1b38b4e9",
   "metadata": {},
   "source": [
    "Question 6:\n",
    "Please write a binary search function which searches an item in a sorted list. The function should return the index of element to be searched in the list."
   ]
  },
  {
   "cell_type": "code",
   "execution_count": 154,
   "id": "9f10b95e",
   "metadata": {},
   "outputs": [
    {
     "name": "stdout",
     "output_type": "stream",
     "text": [
      "enter serch element : 89\n",
      "\n",
      "\n",
      "\n",
      "\n",
      "Element is present at index :  7\n"
     ]
    }
   ],
   "source": [
    "# Answer\n",
    "def binary_search(arr, low, high, x):\n",
    "    print()\n",
    "    if high >= low:\n",
    " \n",
    "        mid = (high + low) // 2\n",
    "        if arr[mid] == x:\n",
    "            return mid\n",
    "        elif arr[mid] > x:\n",
    "            return binary_search(arr, low, mid - 1, x)\n",
    "        else:\n",
    "            return binary_search(arr, mid + 1, high, x)\n",
    "    else:\n",
    "        return -1\n",
    "arr =[2,5,10,20,40,50,67,89]\n",
    "x = int(input(\"enter serch element : \"))\n",
    "result = binary_search(arr, 0, len(arr)-1, x)\n",
    " \n",
    "if result != -1:\n",
    "    print(\"Element is present at index : \", str(result))\n",
    "else:\n",
    "    print(\"Element is not present in array\")"
   ]
  }
 ],
 "metadata": {
  "kernelspec": {
   "display_name": "Python 3 (ipykernel)",
   "language": "python",
   "name": "python3"
  },
  "language_info": {
   "codemirror_mode": {
    "name": "ipython",
    "version": 3
   },
   "file_extension": ".py",
   "mimetype": "text/x-python",
   "name": "python",
   "nbconvert_exporter": "python",
   "pygments_lexer": "ipython3",
   "version": "3.9.12"
  }
 },
 "nbformat": 4,
 "nbformat_minor": 5
}
